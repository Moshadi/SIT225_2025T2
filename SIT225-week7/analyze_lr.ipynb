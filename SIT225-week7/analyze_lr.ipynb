{
 "cells": [
  {
   "cell_type": "code",
   "execution_count": 24,
   "id": "9f1ab785-7d9d-4c1a-9273-67eb6dd7fae9",
   "metadata": {},
   "outputs": [
    {
     "name": "stdout",
     "output_type": "stream",
     "text": [
      "Outlier Limits Analysis:\n",
      "\n",
      "temperature:\n",
      "  Q1 (25th percentile): 18.3\n",
      "  Q3 (75th percentile): 18.7\n",
      "  IQR: 0.4\n",
      "  Lower Outlier Limit: 17.7\n",
      "  Upper Outlier Limit: 19.3\n",
      "  Number of outliers: 69\n",
      "\n",
      "humidity:\n",
      "  Q1 (25th percentile): 58.1\n",
      "  Q3 (75th percentile): 59.0\n",
      "  IQR: 0.9\n",
      "  Lower Outlier Limit: 56.8\n",
      "  Upper Outlier Limit: 60.3\n",
      "  Number of outliers: 72\n"
     ]
    }
   ],
   "source": [
    "import pandas as pd\n",
    "import numpy as np\n",
    "\n",
    "# Load your dataset (change filename if needed)\n",
    "sensor_data = pd.read_csv(\"sensor_data.csv\")\n",
    "\n",
    "def outlier_limits(data, column_name):\n",
    "    Q1 = np.percentile(data[column_name], 25)\n",
    "    Q3 = np.percentile(data[column_name], 75)\n",
    "    IQR = Q3 - Q1\n",
    "    \n",
    "    lower_limit = Q1 - 1.5 * IQR\n",
    "    upper_limit = Q3 + 1.5 * IQR\n",
    "    \n",
    "    return lower_limit, upper_limit, Q1, Q3, IQR\n",
    "\n",
    "numeric_columns = ['temperature', 'humidity']\n",
    "\n",
    "print(\"Outlier Limits Analysis:\")\n",
    "\n",
    "for col in numeric_columns:\n",
    "    lower_limit, upper_limit, Q1, Q3, IQR = outlier_limits(sensor_data, col)\n",
    "\n",
    "    # Count actual outliers\n",
    "    outliers = sensor_data[(sensor_data[col] < lower_limit) | (sensor_data[col] > upper_limit)]\n",
    "    \n",
    "    print(f\"\\n{col}:\")\n",
    "    print(f\"  Q1 (25th percentile): {Q1:.1f}\")\n",
    "    print(f\"  Q3 (75th percentile): {Q3:.1f}\")\n",
    "    print(f\"  IQR: {IQR:.1f}\")\n",
    "    print(f\"  Lower Outlier Limit: {lower_limit:.1f}\")\n",
    "    print(f\"  Upper Outlier Limit: {upper_limit:.1f}\")\n",
    "    print(f\"  Number of outliers: {len(outliers)}\")\n"
   ]
  },
  {
   "cell_type": "code",
   "execution_count": 25,
   "id": "90943018-f745-4113-b0f8-9bf36768cdbd",
   "metadata": {},
   "outputs": [
    {
     "name": "stdout",
     "output_type": "stream",
     "text": [
      "Temperature outlier Lower Limit: 17.7\n",
      "Number of rows after applying lower limit: 853\n"
     ]
    },
    {
     "data": {
      "text/html": [
       "<div>\n",
       "<style scoped>\n",
       "    .dataframe tbody tr th:only-of-type {\n",
       "        vertical-align: middle;\n",
       "    }\n",
       "\n",
       "    .dataframe tbody tr th {\n",
       "        vertical-align: top;\n",
       "    }\n",
       "\n",
       "    .dataframe thead th {\n",
       "        text-align: right;\n",
       "    }\n",
       "</style>\n",
       "<table border=\"1\" class=\"dataframe\">\n",
       "  <thead>\n",
       "    <tr style=\"text-align: right;\">\n",
       "      <th></th>\n",
       "      <th>timestamp_iso</th>\n",
       "      <th>temperature</th>\n",
       "      <th>humidity</th>\n",
       "    </tr>\n",
       "  </thead>\n",
       "  <tbody>\n",
       "    <tr>\n",
       "      <th>0</th>\n",
       "      <td>2025-09-30T23:50:09.691770</td>\n",
       "      <td>20.1</td>\n",
       "      <td>53.4</td>\n",
       "    </tr>\n",
       "    <tr>\n",
       "      <th>1</th>\n",
       "      <td>2025-09-30T23:50:09.854731</td>\n",
       "      <td>20.1</td>\n",
       "      <td>53.4</td>\n",
       "    </tr>\n",
       "    <tr>\n",
       "      <th>2</th>\n",
       "      <td>2025-09-30T23:50:11.861219</td>\n",
       "      <td>20.1</td>\n",
       "      <td>53.5</td>\n",
       "    </tr>\n",
       "    <tr>\n",
       "      <th>3</th>\n",
       "      <td>2025-09-30T23:50:13.867645</td>\n",
       "      <td>20.1</td>\n",
       "      <td>53.5</td>\n",
       "    </tr>\n",
       "    <tr>\n",
       "      <th>4</th>\n",
       "      <td>2025-09-30T23:50:15.873803</td>\n",
       "      <td>20.1</td>\n",
       "      <td>53.5</td>\n",
       "    </tr>\n",
       "  </tbody>\n",
       "</table>\n",
       "</div>"
      ],
      "text/plain": [
       "                timestamp_iso  temperature  humidity\n",
       "0  2025-09-30T23:50:09.691770         20.1      53.4\n",
       "1  2025-09-30T23:50:09.854731         20.1      53.4\n",
       "2  2025-09-30T23:50:11.861219         20.1      53.5\n",
       "3  2025-09-30T23:50:13.867645         20.1      53.5\n",
       "4  2025-09-30T23:50:15.873803         20.1      53.5"
      ]
     },
     "metadata": {},
     "output_type": "display_data"
    },
    {
     "name": "stdout",
     "output_type": "stream",
     "text": [
      "Temperature outlier Upper Limit: 19.3\n",
      "Number of rows after applying upper limit: 784\n"
     ]
    },
    {
     "data": {
      "text/html": [
       "<div>\n",
       "<style scoped>\n",
       "    .dataframe tbody tr th:only-of-type {\n",
       "        vertical-align: middle;\n",
       "    }\n",
       "\n",
       "    .dataframe tbody tr th {\n",
       "        vertical-align: top;\n",
       "    }\n",
       "\n",
       "    .dataframe thead th {\n",
       "        text-align: right;\n",
       "    }\n",
       "</style>\n",
       "<table border=\"1\" class=\"dataframe\">\n",
       "  <thead>\n",
       "    <tr style=\"text-align: right;\">\n",
       "      <th></th>\n",
       "      <th>timestamp_iso</th>\n",
       "      <th>temperature</th>\n",
       "      <th>humidity</th>\n",
       "    </tr>\n",
       "  </thead>\n",
       "  <tbody>\n",
       "    <tr>\n",
       "      <th>69</th>\n",
       "      <td>2025-09-30T23:55:08.939438</td>\n",
       "      <td>19.1</td>\n",
       "      <td>56.5</td>\n",
       "    </tr>\n",
       "    <tr>\n",
       "      <th>70</th>\n",
       "      <td>2025-09-30T23:55:10.948133</td>\n",
       "      <td>19.1</td>\n",
       "      <td>56.5</td>\n",
       "    </tr>\n",
       "    <tr>\n",
       "      <th>71</th>\n",
       "      <td>2025-09-30T23:55:12.956760</td>\n",
       "      <td>19.1</td>\n",
       "      <td>56.6</td>\n",
       "    </tr>\n",
       "    <tr>\n",
       "      <th>72</th>\n",
       "      <td>2025-09-30T23:55:14.965116</td>\n",
       "      <td>19.1</td>\n",
       "      <td>56.8</td>\n",
       "    </tr>\n",
       "    <tr>\n",
       "      <th>73</th>\n",
       "      <td>2025-09-30T23:55:16.973235</td>\n",
       "      <td>19.1</td>\n",
       "      <td>56.8</td>\n",
       "    </tr>\n",
       "  </tbody>\n",
       "</table>\n",
       "</div>"
      ],
      "text/plain": [
       "                 timestamp_iso  temperature  humidity\n",
       "69  2025-09-30T23:55:08.939438         19.1      56.5\n",
       "70  2025-09-30T23:55:10.948133         19.1      56.5\n",
       "71  2025-09-30T23:55:12.956760         19.1      56.6\n",
       "72  2025-09-30T23:55:14.965116         19.1      56.8\n",
       "73  2025-09-30T23:55:16.973235         19.1      56.8"
      ]
     },
     "metadata": {},
     "output_type": "display_data"
    }
   ],
   "source": [
    "# Calculate bounds for temperature using your outlier function\n",
    "temp_lower, temp_upper, Q1, Q3, IQR = outlier_limits(sensor_data, \"temperature\")\n",
    "\n",
    "print(f\"Temperature outlier Lower Limit: {temp_lower:.1f}\")\n",
    "filter_outlier_lower = sensor_data[sensor_data['temperature'] >= temp_lower]\n",
    "print(f\"Number of rows after applying lower limit: {len(filter_outlier_lower)}\")\n",
    "display(filter_outlier_lower.head())\n",
    "\n",
    "print(f\"Temperature outlier Upper Limit: {temp_upper:.1f}\")\n",
    "filter_outlier_upper = sensor_data[sensor_data['temperature'] <= temp_upper]\n",
    "print(f\"Number of rows after applying upper limit: {len(filter_outlier_upper)}\")\n",
    "display(filter_outlier_upper.head())\n"
   ]
  },
  {
   "cell_type": "code",
   "execution_count": 32,
   "id": "7245ae0f-412b-4ee3-a32a-7aecb5ae9cda",
   "metadata": {},
   "outputs": [
    {
     "name": "stdout",
     "output_type": "stream",
     "text": [
      "\n",
      "=== Scenario 1: Original Data ===\n",
      "Slope: -2.915\n",
      "Intercept: 112.410\n",
      "R²: 0.972\n",
      "Samples: 853\n"
     ]
    },
    {
     "data": {
      "application/vnd.plotly.v1+json": {
       "config": {
        "plotlyServerURL": "https://plot.ly"
       },
       "data": [
        {
         "hovertemplate": "temperature=%{x}<br>humidity=%{y}<extra></extra>",
         "legendgroup": "",
         "marker": {
          "color": "#636efa",
          "opacity": 0.65,
          "symbol": "circle"
         },
         "mode": "markers",
         "name": "",
         "orientation": "v",
         "showlegend": false,
         "type": "scatter",
         "x": {
          "bdata": "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",
          "dtype": "f8"
         },
         "xaxis": "x",
         "y": {
          "bdata": "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",
          "dtype": "f8"
         },
         "yaxis": "y"
        },
        {
         "name": "Regression Fit",
         "type": "scatter",
         "x": {
          "bdata": "mpmZmZkZMkBKrkGPxR4yQPrC6YTxIzJAqteReh0pMkBZ7DlwSS4yQAkB4mV1MzJAuRWKW6E4MkBpKjJRzT0yQBk/2kb5QjJAyVOCPCVIMkB4aCoyUU0yQCh90id9UjJA2JF6HalXMkCIpiIT1VwyQDi7yggBYjJA6M9y/ixnMkCX5Br0WGwyQEf5wumEcTJA9w1r37B2MkCnIhPV3HsyQFc3u8oIgTJAB0xjwDSGMkC2YAu2YIsyQGZ1s6uMkDJAFopbobiVMkDGngOX5JoyQHazq4wQoDJAJshTgjylMkDW3Pt3aKoyQIXxo22UrzJANQZMY8C0MkDlGvRY7LkyQJUvnE4YvzJARURERETEMkD1WOw5cMkyQKRtlC+czjJAVII8JcjTMkAEl+Qa9NgyQLSrjBAg3jJAZMA0BkzjMkAU1dz7d+gyQMPphPGj7TJAc/4s58/yMkAjE9Xc+/cyQNMnfdIn/TJAgzwlyFMCM0AzUc29fwczQOJldbOrDDNAknodqdcRM0BCj8WeAxczQPKjbZQvHDNAorgVilshM0BSzb1/hyYzQAHiZXWzKzNAsfYNa98wM0BhC7ZgCzYzQBEgXlY3OzNAwTQGTGNAM0BxSa5Bj0UzQCBeVje7SjNA0HL+LOdPM0CAh6YiE1UzQDCcThg/WjNA4LD2DWtfM0CQxZ4Dl2QzQEDaRvnCaTNA7+7u7u5uM0CfA5fkGnQzQE8YP9pGeTNA/yznz3J+M0CvQY/FnoMzQF9WN7vKiDNADmvfsPaNM0C+f4emIpMzQG6UL5xOmDNAHqnXkXqdM0DOvX+HpqIzQH7SJ33SpzNALefPcv6sM0Dd+3doKrIzQI0QIF5WtzNAPSXIU4K8M0DtOXBJrsEzQJ1OGD/axjNATGPANAbMM0D8d2gqMtEzQKyMECBe1jNAXKG4FYrbM0AMtmALtuAzQLzKCAHi5TNAbN+w9g3rM0Ab9FjsOfAzQMsIAeJl9TNAex2p15H6M0ArMlHNvf8zQNtG+cLpBDRAiluhuBUKNEA6cEmuQQ80QOqE8aNtFDRAmpmZmZkZNEA=",
          "dtype": "f8"
         },
         "y": {
          "bdata": "GmHgTi/STUCcc01qpcpNQB+GuoUbw01AoZgnoZG7TUAlq5S8B7RNQKi9Adh9rE1AKtBu8/OkTUCt4tsOap1NQC/1SCrglU1Asge2RVaOTUA2GiNhzIZNQLgskHxCf01AOz/9l7h3TUC9UWqzLnBNQEBk186kaE1AwnZE6hphTUBGibEFkVlNQMmbHiEHUk1AS66LPH1KTUDOwPhX80JNQFDTZXNpO01A0+XSjt8zTUBW+D+qVSxNQNkKrcXLJE1AWx0a4UEdTUDeL4f8txVNQGBC9BcuDk1A41RhM6QGTUBlZ85OGv9MQOl5O2qQ90xAbIyohQbwTEDunhWhfOhMQHGxgrzy4ExA88Pv12jZTEB21lzz3tFMQProyQ5VykxAfPs2KsvCTED/DaRFQbtMQIEgEWG3s0xABDN+fC2sTECGReuXo6RMQApYWLMZnUxAjWrFzo+VTEAPfTLqBY5MQJKPnwV8hkxAFKIMIfJ+TECXtHk8aHdMQBvH5lfeb0xAndlTc1RoTEAf7MCOymBMQKL+LapAWUxAJBGbxbZRTECnIwjhLEpMQCs2dfyiQkxArUjiFxk7TEAwW08zjzNMQLJtvE4FLExANYApanskTEC3kpaF8RxMQDulA6FnFUxAvrdwvN0NTEBAyt3XUwZMQMPcSvPJ/ktARe+3DkD3S0DIASUqtu9LQEoUkkUs6EtAzib/YKLgS0BROWx8GNlLQNNL2ZeO0UtAVl5GswTKS0DYcLPOesJLQFuDIOrwuktA35WNBWezS0BhqPog3atLQOS6ZzxTpEtAZs3UV8mcS0Do30FzP5VLQGvyro61jUtA7wQcqiuGS0BxF4nFoX5LQPQp9uAXd0tAdjxj/I1vS0D5TtAXBGhLQHthPTN6YEtA/3OqTvBYS0CChhdqZlFLQASZhIXcSUtAh6vxoFJCS0AJvl68yDpLQIzQy9c+M0tADuM487QrS0CS9aUOKyRLQBUIEyqhHEtAlxqARRcVS0AaLe1gjQ1LQJw/WnwDBktAIFLHl3n+SkCjZDSz7/ZKQCV3oc5l70pAqIkO6tvnSkA=",
          "dtype": "f8"
         }
        }
       ],
       "layout": {
        "legend": {
         "tracegroupgap": 0
        },
        "template": {
         "data": {
          "bar": [
           {
            "error_x": {
             "color": "#2a3f5f"
            },
            "error_y": {
             "color": "#2a3f5f"
            },
            "marker": {
             "line": {
              "color": "#E5ECF6",
              "width": 0.5
             },
             "pattern": {
              "fillmode": "overlay",
              "size": 10,
              "solidity": 0.2
             }
            },
            "type": "bar"
           }
          ],
          "barpolar": [
           {
            "marker": {
             "line": {
              "color": "#E5ECF6",
              "width": 0.5
             },
             "pattern": {
              "fillmode": "overlay",
              "size": 10,
              "solidity": 0.2
             }
            },
            "type": "barpolar"
           }
          ],
          "carpet": [
           {
            "aaxis": {
             "endlinecolor": "#2a3f5f",
             "gridcolor": "white",
             "linecolor": "white",
             "minorgridcolor": "white",
             "startlinecolor": "#2a3f5f"
            },
            "baxis": {
             "endlinecolor": "#2a3f5f",
             "gridcolor": "white",
             "linecolor": "white",
             "minorgridcolor": "white",
             "startlinecolor": "#2a3f5f"
            },
            "type": "carpet"
           }
          ],
          "choropleth": [
           {
            "colorbar": {
             "outlinewidth": 0,
             "ticks": ""
            },
            "type": "choropleth"
           }
          ],
          "contour": [
           {
            "colorbar": {
             "outlinewidth": 0,
             "ticks": ""
            },
            "colorscale": [
             [
              0,
              "#0d0887"
             ],
             [
              0.1111111111111111,
              "#46039f"
             ],
             [
              0.2222222222222222,
              "#7201a8"
             ],
             [
              0.3333333333333333,
              "#9c179e"
             ],
             [
              0.4444444444444444,
              "#bd3786"
             ],
             [
              0.5555555555555556,
              "#d8576b"
             ],
             [
              0.6666666666666666,
              "#ed7953"
             ],
             [
              0.7777777777777778,
              "#fb9f3a"
             ],
             [
              0.8888888888888888,
              "#fdca26"
             ],
             [
              1,
              "#f0f921"
             ]
            ],
            "type": "contour"
           }
          ],
          "contourcarpet": [
           {
            "colorbar": {
             "outlinewidth": 0,
             "ticks": ""
            },
            "type": "contourcarpet"
           }
          ],
          "heatmap": [
           {
            "colorbar": {
             "outlinewidth": 0,
             "ticks": ""
            },
            "colorscale": [
             [
              0,
              "#0d0887"
             ],
             [
              0.1111111111111111,
              "#46039f"
             ],
             [
              0.2222222222222222,
              "#7201a8"
             ],
             [
              0.3333333333333333,
              "#9c179e"
             ],
             [
              0.4444444444444444,
              "#bd3786"
             ],
             [
              0.5555555555555556,
              "#d8576b"
             ],
             [
              0.6666666666666666,
              "#ed7953"
             ],
             [
              0.7777777777777778,
              "#fb9f3a"
             ],
             [
              0.8888888888888888,
              "#fdca26"
             ],
             [
              1,
              "#f0f921"
             ]
            ],
            "type": "heatmap"
           }
          ],
          "histogram": [
           {
            "marker": {
             "pattern": {
              "fillmode": "overlay",
              "size": 10,
              "solidity": 0.2
             }
            },
            "type": "histogram"
           }
          ],
          "histogram2d": [
           {
            "colorbar": {
             "outlinewidth": 0,
             "ticks": ""
            },
            "colorscale": [
             [
              0,
              "#0d0887"
             ],
             [
              0.1111111111111111,
              "#46039f"
             ],
             [
              0.2222222222222222,
              "#7201a8"
             ],
             [
              0.3333333333333333,
              "#9c179e"
             ],
             [
              0.4444444444444444,
              "#bd3786"
             ],
             [
              0.5555555555555556,
              "#d8576b"
             ],
             [
              0.6666666666666666,
              "#ed7953"
             ],
             [
              0.7777777777777778,
              "#fb9f3a"
             ],
             [
              0.8888888888888888,
              "#fdca26"
             ],
             [
              1,
              "#f0f921"
             ]
            ],
            "type": "histogram2d"
           }
          ],
          "histogram2dcontour": [
           {
            "colorbar": {
             "outlinewidth": 0,
             "ticks": ""
            },
            "colorscale": [
             [
              0,
              "#0d0887"
             ],
             [
              0.1111111111111111,
              "#46039f"
             ],
             [
              0.2222222222222222,
              "#7201a8"
             ],
             [
              0.3333333333333333,
              "#9c179e"
             ],
             [
              0.4444444444444444,
              "#bd3786"
             ],
             [
              0.5555555555555556,
              "#d8576b"
             ],
             [
              0.6666666666666666,
              "#ed7953"
             ],
             [
              0.7777777777777778,
              "#fb9f3a"
             ],
             [
              0.8888888888888888,
              "#fdca26"
             ],
             [
              1,
              "#f0f921"
             ]
            ],
            "type": "histogram2dcontour"
           }
          ],
          "mesh3d": [
           {
            "colorbar": {
             "outlinewidth": 0,
             "ticks": ""
            },
            "type": "mesh3d"
           }
          ],
          "parcoords": [
           {
            "line": {
             "colorbar": {
              "outlinewidth": 0,
              "ticks": ""
             }
            },
            "type": "parcoords"
           }
          ],
          "pie": [
           {
            "automargin": true,
            "type": "pie"
           }
          ],
          "scatter": [
           {
            "fillpattern": {
             "fillmode": "overlay",
             "size": 10,
             "solidity": 0.2
            },
            "type": "scatter"
           }
          ],
          "scatter3d": [
           {
            "line": {
             "colorbar": {
              "outlinewidth": 0,
              "ticks": ""
             }
            },
            "marker": {
             "colorbar": {
              "outlinewidth": 0,
              "ticks": ""
             }
            },
            "type": "scatter3d"
           }
          ],
          "scattercarpet": [
           {
            "marker": {
             "colorbar": {
              "outlinewidth": 0,
              "ticks": ""
             }
            },
            "type": "scattercarpet"
           }
          ],
          "scattergeo": [
           {
            "marker": {
             "colorbar": {
              "outlinewidth": 0,
              "ticks": ""
             }
            },
            "type": "scattergeo"
           }
          ],
          "scattergl": [
           {
            "marker": {
             "colorbar": {
              "outlinewidth": 0,
              "ticks": ""
             }
            },
            "type": "scattergl"
           }
          ],
          "scattermap": [
           {
            "marker": {
             "colorbar": {
              "outlinewidth": 0,
              "ticks": ""
             }
            },
            "type": "scattermap"
           }
          ],
          "scattermapbox": [
           {
            "marker": {
             "colorbar": {
              "outlinewidth": 0,
              "ticks": ""
             }
            },
            "type": "scattermapbox"
           }
          ],
          "scatterpolar": [
           {
            "marker": {
             "colorbar": {
              "outlinewidth": 0,
              "ticks": ""
             }
            },
            "type": "scatterpolar"
           }
          ],
          "scatterpolargl": [
           {
            "marker": {
             "colorbar": {
              "outlinewidth": 0,
              "ticks": ""
             }
            },
            "type": "scatterpolargl"
           }
          ],
          "scatterternary": [
           {
            "marker": {
             "colorbar": {
              "outlinewidth": 0,
              "ticks": ""
             }
            },
            "type": "scatterternary"
           }
          ],
          "surface": [
           {
            "colorbar": {
             "outlinewidth": 0,
             "ticks": ""
            },
            "colorscale": [
             [
              0,
              "#0d0887"
             ],
             [
              0.1111111111111111,
              "#46039f"
             ],
             [
              0.2222222222222222,
              "#7201a8"
             ],
             [
              0.3333333333333333,
              "#9c179e"
             ],
             [
              0.4444444444444444,
              "#bd3786"
             ],
             [
              0.5555555555555556,
              "#d8576b"
             ],
             [
              0.6666666666666666,
              "#ed7953"
             ],
             [
              0.7777777777777778,
              "#fb9f3a"
             ],
             [
              0.8888888888888888,
              "#fdca26"
             ],
             [
              1,
              "#f0f921"
             ]
            ],
            "type": "surface"
           }
          ],
          "table": [
           {
            "cells": {
             "fill": {
              "color": "#EBF0F8"
             },
             "line": {
              "color": "white"
             }
            },
            "header": {
             "fill": {
              "color": "#C8D4E3"
             },
             "line": {
              "color": "white"
             }
            },
            "type": "table"
           }
          ]
         },
         "layout": {
          "annotationdefaults": {
           "arrowcolor": "#2a3f5f",
           "arrowhead": 0,
           "arrowwidth": 1
          },
          "autotypenumbers": "strict",
          "coloraxis": {
           "colorbar": {
            "outlinewidth": 0,
            "ticks": ""
           }
          },
          "colorscale": {
           "diverging": [
            [
             0,
             "#8e0152"
            ],
            [
             0.1,
             "#c51b7d"
            ],
            [
             0.2,
             "#de77ae"
            ],
            [
             0.3,
             "#f1b6da"
            ],
            [
             0.4,
             "#fde0ef"
            ],
            [
             0.5,
             "#f7f7f7"
            ],
            [
             0.6,
             "#e6f5d0"
            ],
            [
             0.7,
             "#b8e186"
            ],
            [
             0.8,
             "#7fbc41"
            ],
            [
             0.9,
             "#4d9221"
            ],
            [
             1,
             "#276419"
            ]
           ],
           "sequential": [
            [
             0,
             "#0d0887"
            ],
            [
             0.1111111111111111,
             "#46039f"
            ],
            [
             0.2222222222222222,
             "#7201a8"
            ],
            [
             0.3333333333333333,
             "#9c179e"
            ],
            [
             0.4444444444444444,
             "#bd3786"
            ],
            [
             0.5555555555555556,
             "#d8576b"
            ],
            [
             0.6666666666666666,
             "#ed7953"
            ],
            [
             0.7777777777777778,
             "#fb9f3a"
            ],
            [
             0.8888888888888888,
             "#fdca26"
            ],
            [
             1,
             "#f0f921"
            ]
           ],
           "sequentialminus": [
            [
             0,
             "#0d0887"
            ],
            [
             0.1111111111111111,
             "#46039f"
            ],
            [
             0.2222222222222222,
             "#7201a8"
            ],
            [
             0.3333333333333333,
             "#9c179e"
            ],
            [
             0.4444444444444444,
             "#bd3786"
            ],
            [
             0.5555555555555556,
             "#d8576b"
            ],
            [
             0.6666666666666666,
             "#ed7953"
            ],
            [
             0.7777777777777778,
             "#fb9f3a"
            ],
            [
             0.8888888888888888,
             "#fdca26"
            ],
            [
             1,
             "#f0f921"
            ]
           ]
          },
          "colorway": [
           "#636efa",
           "#EF553B",
           "#00cc96",
           "#ab63fa",
           "#FFA15A",
           "#19d3f3",
           "#FF6692",
           "#B6E880",
           "#FF97FF",
           "#FECB52"
          ],
          "font": {
           "color": "#2a3f5f"
          },
          "geo": {
           "bgcolor": "white",
           "lakecolor": "white",
           "landcolor": "#E5ECF6",
           "showlakes": true,
           "showland": true,
           "subunitcolor": "white"
          },
          "hoverlabel": {
           "align": "left"
          },
          "hovermode": "closest",
          "mapbox": {
           "style": "light"
          },
          "paper_bgcolor": "white",
          "plot_bgcolor": "#E5ECF6",
          "polar": {
           "angularaxis": {
            "gridcolor": "white",
            "linecolor": "white",
            "ticks": ""
           },
           "bgcolor": "#E5ECF6",
           "radialaxis": {
            "gridcolor": "white",
            "linecolor": "white",
            "ticks": ""
           }
          },
          "scene": {
           "xaxis": {
            "backgroundcolor": "#E5ECF6",
            "gridcolor": "white",
            "gridwidth": 2,
            "linecolor": "white",
            "showbackground": true,
            "ticks": "",
            "zerolinecolor": "white"
           },
           "yaxis": {
            "backgroundcolor": "#E5ECF6",
            "gridcolor": "white",
            "gridwidth": 2,
            "linecolor": "white",
            "showbackground": true,
            "ticks": "",
            "zerolinecolor": "white"
           },
           "zaxis": {
            "backgroundcolor": "#E5ECF6",
            "gridcolor": "white",
            "gridwidth": 2,
            "linecolor": "white",
            "showbackground": true,
            "ticks": "",
            "zerolinecolor": "white"
           }
          },
          "shapedefaults": {
           "line": {
            "color": "#2a3f5f"
           }
          },
          "ternary": {
           "aaxis": {
            "gridcolor": "white",
            "linecolor": "white",
            "ticks": ""
           },
           "baxis": {
            "gridcolor": "white",
            "linecolor": "white",
            "ticks": ""
           },
           "bgcolor": "#E5ECF6",
           "caxis": {
            "gridcolor": "white",
            "linecolor": "white",
            "ticks": ""
           }
          },
          "title": {
           "x": 0.05
          },
          "xaxis": {
           "automargin": true,
           "gridcolor": "white",
           "linecolor": "white",
           "ticks": "",
           "title": {
            "standoff": 15
           },
           "zerolinecolor": "white",
           "zerolinewidth": 2
          },
          "yaxis": {
           "automargin": true,
           "gridcolor": "white",
           "linecolor": "white",
           "ticks": "",
           "title": {
            "standoff": 15
           },
           "zerolinecolor": "white",
           "zerolinewidth": 2
          }
         }
        },
        "title": {
         "text": "Scenario 1: Original Data"
        },
        "xaxis": {
         "anchor": "y",
         "domain": [
          0,
          1
         ],
         "title": {
          "text": "Temperature (°C)"
         }
        },
        "yaxis": {
         "anchor": "x",
         "domain": [
          0,
          1
         ],
         "title": {
          "text": "Humidity (%)"
         }
        }
       }
      },
      "image/png": "[encoded data removed]"
     },
     "metadata": {},
     "output_type": "display_data"
    },
    {
     "name": "stdout",
     "output_type": "stream",
     "text": [
      "Saved plot as scenario1_original.png\n",
      "\n",
      "=== Scenario 2: Filtered (20–35 °C) ===\n",
      "Slope: -5.810\n",
      "Intercept: 170.257\n",
      "R²: 0.842\n",
      "Samples: 16\n"
     ]
    },
    {
     "data": {
      "application/vnd.plotly.v1+json": {
       "config": {
        "plotlyServerURL": "https://plot.ly"
       },
       "data": [
        {
         "hovertemplate": "temperature=%{x}<br>humidity=%{y}<extra></extra>",
         "legendgroup": "",
         "marker": {
          "color": "#636efa",
          "opacity": 0.65,
          "symbol": "circle"
         },
         "mode": "markers",
         "name": "",
         "orientation": "v",
         "showlegend": false,
         "type": "scatter",
         "x": {
          "bdata": "mpmZmZkZNECamZmZmRk0QJqZmZmZGTRAmpmZmZkZNECamZmZmRk0QJqZmZmZGTRAmpmZmZkZNEAAAAAAAAA0QAAAAAAAADRAAAAAAAAANEAAAAAAAAA0QAAAAAAAADRAAAAAAAAANEAAAAAAAAA0QAAAAAAAADRAAAAAAAAANEA=",
          "dtype": "f8"
         },
         "xaxis": "x",
         "y": {
          "bdata": "MzMzMzOzSkAzMzMzM7NKQAAAAAAAwEpAAAAAAADASkAAAAAAAMBKQAAAAAAAwEpAzczMzMzMSkCamZmZmdlKQDMzMzMz80pAzczMzMwMS0CamZmZmRlLQJqZmZmZGUtAmpmZmZkZS0DNzMzMzAxLQM3MzMzMDEtAzczMzMwMS0A=",
          "dtype": "f8"
         },
         "yaxis": "y"
        },
        {
         "name": "Regression Fit",
         "type": "scatter",
         "x": {
          "bdata": "AAAAAAAANEDWza4yQgA0QKubXWWEADRAgWkMmMYANEBWN7vKCAE0QCwFav1KATRAAtMYMI0BNEDXoMdizwE0QK1udpURAjRAgjwlyFMCNEBYCtT6lQI0QC7Ygi3YAjRAA6YxYBoDNEDZc+CSXAM0QK5Bj8WeAzRAhA8++OADNEBa3ewqIwQ0QC+rm11lBDRABXlKkKcENEDaRvnC6QQ0QLAUqPUrBTRAhuJWKG4FNEBbsAVbsAU0QDF+tI3yBTRABkxjwDQGNEDcGRLzdgY0QLHnwCW5BjRAh7VvWPsGNEBdgx6LPQc0QDJRzb1/BzRACB988MEHNEDd7CojBAg0QLO62VVGCDRAiYiIiIgINEBeVje7ygg0QDQk5u0MCTRACfKUIE8JNEDfv0NTkQk0QLWN8oXTCTRAiluhuBUKNEBgKVDrVwo0QDX3/h2aCjRAC8WtUNwKNEDhklyDHgs0QLZgC7ZgCzRAjC666KILNEBh/Ggb5Qs0QDfKF04nDDRADZjGgGkMNEDiZXWzqww0QLgzJObtDDRAjQHTGDANNEBjz4FLcg00QDmdMH60DTRADmvfsPYNNEDkOI7jOA40QLkGPRZ7DjRAj9TrSL0ONEBlopp7/w40QDpwSa5BDzRAED744IMPNEDlC6cTxg80QLvZVUYIEDRAkacEeUoQNEBmdbOrjBA0QDxDYt7OEDRAERERERERNEDn3r9DUxE0QL2sbnaVETRAknodqdcRNEBoSMzbGRI0QD0Wew5cEjRAE+QpQZ4SNEDpsdhz4BI0QL5/h6YiEzRAlE022WQTNEBpG+ULpxM0QD/pkz7pEzRAFLdCcSsUNEDqhPGjbRQ0QMBSoNavFDRAlSBPCfIUNEBr7v07NBU0QEC8rG52FTRAFopbobgVNEDsVwrU+hU0QMEluQY9FjRAl/NnOX8WNEBswRZswRY0QEKPxZ4DFzRAGF100UUXNEDtKiMEiBc0QMP40TbKFzRAmMaAaQwYNEBulC+cThg0QERi3s6QGDRAGTCNAdMYNEDv/Ts0FRk0QMTL6mZXGTRAmpmZmZkZNEA=",
          "dtype": "f8"
         },
         "y": {
          "bdata": "jIiIiIgIS0BoY3Q+yAdLQEY+YPQHB0tAIhlMqkcGS0AA9DdghwVLQNzOIxbHBEtAuKkPzAYES0CWhPuBRgNLQHJf5zeGAktAUDrT7cUBS0AsFb+jBQFLQAbwqllFAEtA5sqWD4X/SkDApYLFxP5KQKCAbnsE/kpAeltaMUT9SkBWNkbng/xKQDQRMp3D+0pAEOwdUwP7SkDuxgkJQ/pKQMqh9b6C+UpApnzhdML4SkCEV80qAvhKQGAyueBB90pAPg2lloH2SkAa6JBMwfVKQPjCfAIB9UpA1J1ouED0SkCweFRugPNKQI5TQCTA8kpAai4s2v/xSkBICRiQP/FKQCTkA0Z/8EpA/r7v+77vSkDemdux/u5KQLh0x2c+7kpAmE+zHX7tSkByKp/TvexKQE4Fi4n960pALOB2Pz3rSkAIu2L1fOpKQOaVTqu86UpAwnA6YfzoSkCeSyYXPOhKQHwmEs1750pAWAH+grvmSkA23Ok4++VKQBK31e465UpA7pHBpHrkSkDMbK1auuNKQKhHmRD64kpAhiKFxjniSkBi/XB8eeFKQDzYXDK54EpAHLNI6PjfSkD2jTSeON9KQNZoIFR43kpAsEMMCrjdSkCMHvi/99xKQGr543U33EpARtTPK3fbSkAkr7vhttpKQACKp5f22UpA3GSTTTbZSkC6P38DdthKQJYaa7m110pAdPVWb/XWSkBQ0EIlNdZKQCyrLtt01UpACoYakbTUSkDmYAZH9NNKQMQ78vwz00pAoBbesnPSSkB68clos9FKQFrMtR7z0EpANKeh1DLQSkAUgo2Kcs9KQO5ceUCyzkpAzDdl9vHNSkCoElGsMc1KQITtPGJxzEpAYsgoGLHLSkA+oxTO8MpKQBx+AIQwykpA+FjsOXDJSkDUM9jvr8hKQLIOxKXvx0pAjumvWy/HSkBsxJsRb8ZKQEifh8euxUpAInpzfe7ESkACVV8zLsRKQNwvS+ltw0pAvAo3n63CSkCW5SJV7cFKQHLADgstwUpAUJv6wGzASkAsduZ2rL9KQApR0izsvkpA5iu+4iu+SkA=",
          "dtype": "f8"
         }
        }
       ],
       "layout": {
        "legend": {
         "tracegroupgap": 0
        },
        "template": {
         "data": {
          "bar": [
           {
            "error_x": {
             "color": "#2a3f5f"
            },
            "error_y": {
             "color": "#2a3f5f"
            },
            "marker": {
             "line": {
              "color": "#E5ECF6",
              "width": 0.5
             },
             "pattern": {
              "fillmode": "overlay",
              "size": 10,
              "solidity": 0.2
             }
            },
            "type": "bar"
           }
          ],
          "barpolar": [
           {
            "marker": {
             "line": {
              "color": "#E5ECF6",
              "width": 0.5
             },
             "pattern": {
              "fillmode": "overlay",
              "size": 10,
              "solidity": 0.2
             }
            },
            "type": "barpolar"
           }
          ],
          "carpet": [
           {
            "aaxis": {
             "endlinecolor": "#2a3f5f",
             "gridcolor": "white",
             "linecolor": "white",
             "minorgridcolor": "white",
             "startlinecolor": "#2a3f5f"
            },
            "baxis": {
             "endlinecolor": "#2a3f5f",
             "gridcolor": "white",
             "linecolor": "white",
             "minorgridcolor": "white",
             "startlinecolor": "#2a3f5f"
            },
            "type": "carpet"
           }
          ],
          "choropleth": [
           {
            "colorbar": {
             "outlinewidth": 0,
             "ticks": ""
            },
            "type": "choropleth"
           }
          ],
          "contour": [
           {
            "colorbar": {
             "outlinewidth": 0,
             "ticks": ""
            },
            "colorscale": [
             [
              0,
              "#0d0887"
             ],
             [
              0.1111111111111111,
              "#46039f"
             ],
             [
              0.2222222222222222,
              "#7201a8"
             ],
             [
              0.3333333333333333,
              "#9c179e"
             ],
             [
              0.4444444444444444,
              "#bd3786"
             ],
             [
              0.5555555555555556,
              "#d8576b"
             ],
             [
              0.6666666666666666,
              "#ed7953"
             ],
             [
              0.7777777777777778,
              "#fb9f3a"
             ],
             [
              0.8888888888888888,
              "#fdca26"
             ],
             [
              1,
              "#f0f921"
             ]
            ],
            "type": "contour"
           }
          ],
          "contourcarpet": [
           {
            "colorbar": {
             "outlinewidth": 0,
             "ticks": ""
            },
            "type": "contourcarpet"
           }
          ],
          "heatmap": [
           {
            "colorbar": {
             "outlinewidth": 0,
             "ticks": ""
            },
            "colorscale": [
             [
              0,
              "#0d0887"
             ],
             [
              0.1111111111111111,
              "#46039f"
             ],
             [
              0.2222222222222222,
              "#7201a8"
             ],
             [
              0.3333333333333333,
              "#9c179e"
             ],
             [
              0.4444444444444444,
              "#bd3786"
             ],
             [
              0.5555555555555556,
              "#d8576b"
             ],
             [
              0.6666666666666666,
              "#ed7953"
             ],
             [
              0.7777777777777778,
              "#fb9f3a"
             ],
             [
              0.8888888888888888,
              "#fdca26"
             ],
             [
              1,
              "#f0f921"
             ]
            ],
            "type": "heatmap"
           }
          ],
          "histogram": [
           {
            "marker": {
             "pattern": {
              "fillmode": "overlay",
              "size": 10,
              "solidity": 0.2
             }
            },
            "type": "histogram"
           }
          ],
          "histogram2d": [
           {
            "colorbar": {
             "outlinewidth": 0,
             "ticks": ""
            },
            "colorscale": [
             [
              0,
              "#0d0887"
             ],
             [
              0.1111111111111111,
              "#46039f"
             ],
             [
              0.2222222222222222,
              "#7201a8"
             ],
             [
              0.3333333333333333,
              "#9c179e"
             ],
             [
              0.4444444444444444,
              "#bd3786"
             ],
             [
              0.5555555555555556,
              "#d8576b"
             ],
             [
              0.6666666666666666,
              "#ed7953"
             ],
             [
              0.7777777777777778,
              "#fb9f3a"
             ],
             [
              0.8888888888888888,
              "#fdca26"
             ],
             [
              1,
              "#f0f921"
             ]
            ],
            "type": "histogram2d"
           }
          ],
          "histogram2dcontour": [
           {
            "colorbar": {
             "outlinewidth": 0,
             "ticks": ""
            },
            "colorscale": [
             [
              0,
              "#0d0887"
             ],
             [
              0.1111111111111111,
              "#46039f"
             ],
             [
              0.2222222222222222,
              "#7201a8"
             ],
             [
              0.3333333333333333,
              "#9c179e"
             ],
             [
              0.4444444444444444,
              "#bd3786"
             ],
             [
              0.5555555555555556,
              "#d8576b"
             ],
             [
              0.6666666666666666,
              "#ed7953"
             ],
             [
              0.7777777777777778,
              "#fb9f3a"
             ],
             [
              0.8888888888888888,
              "#fdca26"
             ],
             [
              1,
              "#f0f921"
             ]
            ],
            "type": "histogram2dcontour"
           }
          ],
          "mesh3d": [
           {
            "colorbar": {
             "outlinewidth": 0,
             "ticks": ""
            },
            "type": "mesh3d"
           }
          ],
          "parcoords": [
           {
            "line": {
             "colorbar": {
              "outlinewidth": 0,
              "ticks": ""
             }
            },
            "type": "parcoords"
           }
          ],
          "pie": [
           {
            "automargin": true,
            "type": "pie"
           }
          ],
          "scatter": [
           {
            "fillpattern": {
             "fillmode": "overlay",
             "size": 10,
             "solidity": 0.2
            },
            "type": "scatter"
           }
          ],
          "scatter3d": [
           {
            "line": {
             "colorbar": {
              "outlinewidth": 0,
              "ticks": ""
             }
            },
            "marker": {
             "colorbar": {
              "outlinewidth": 0,
              "ticks": ""
             }
            },
            "type": "scatter3d"
           }
          ],
          "scattercarpet": [
           {
            "marker": {
             "colorbar": {
              "outlinewidth": 0,
              "ticks": ""
             }
            },
            "type": "scattercarpet"
           }
          ],
          "scattergeo": [
           {
            "marker": {
             "colorbar": {
              "outlinewidth": 0,
              "ticks": ""
             }
            },
            "type": "scattergeo"
           }
          ],
          "scattergl": [
           {
            "marker": {
             "colorbar": {
              "outlinewidth": 0,
              "ticks": ""
             }
            },
            "type": "scattergl"
           }
          ],
          "scattermap": [
           {
            "marker": {
             "colorbar": {
              "outlinewidth": 0,
              "ticks": ""
             }
            },
            "type": "scattermap"
           }
          ],
          "scattermapbox": [
           {
            "marker": {
             "colorbar": {
              "outlinewidth": 0,
              "ticks": ""
             }
            },
            "type": "scattermapbox"
           }
          ],
          "scatterpolar": [
           {
            "marker": {
             "colorbar": {
              "outlinewidth": 0,
              "ticks": ""
             }
            },
            "type": "scatterpolar"
           }
          ],
          "scatterpolargl": [
           {
            "marker": {
             "colorbar": {
              "outlinewidth": 0,
              "ticks": ""
             }
            },
            "type": "scatterpolargl"
           }
          ],
          "scatterternary": [
           {
            "marker": {
             "colorbar": {
              "outlinewidth": 0,
              "ticks": ""
             }
            },
            "type": "scatterternary"
           }
          ],
          "surface": [
           {
            "colorbar": {
             "outlinewidth": 0,
             "ticks": ""
            },
            "colorscale": [
             [
              0,
              "#0d0887"
             ],
             [
              0.1111111111111111,
              "#46039f"
             ],
             [
              0.2222222222222222,
              "#7201a8"
             ],
             [
              0.3333333333333333,
              "#9c179e"
             ],
             [
              0.4444444444444444,
              "#bd3786"
             ],
             [
              0.5555555555555556,
              "#d8576b"
             ],
             [
              0.6666666666666666,
              "#ed7953"
             ],
             [
              0.7777777777777778,
              "#fb9f3a"
             ],
             [
              0.8888888888888888,
              "#fdca26"
             ],
             [
              1,
              "#f0f921"
             ]
            ],
            "type": "surface"
           }
          ],
          "table": [
           {
            "cells": {
             "fill": {
              "color": "#EBF0F8"
             },
             "line": {
              "color": "white"
             }
            },
            "header": {
             "fill": {
              "color": "#C8D4E3"
             },
             "line": {
              "color": "white"
             }
            },
            "type": "table"
           }
          ]
         },
         "layout": {
          "annotationdefaults": {
           "arrowcolor": "#2a3f5f",
           "arrowhead": 0,
           "arrowwidth": 1
          },
          "autotypenumbers": "strict",
          "coloraxis": {
           "colorbar": {
            "outlinewidth": 0,
            "ticks": ""
           }
          },
          "colorscale": {
           "diverging": [
            [
             0,
             "#8e0152"
            ],
            [
             0.1,
             "#c51b7d"
            ],
            [
             0.2,
             "#de77ae"
            ],
            [
             0.3,
             "#f1b6da"
            ],
            [
             0.4,
             "#fde0ef"
            ],
            [
             0.5,
             "#f7f7f7"
            ],
            [
             0.6,
             "#e6f5d0"
            ],
            [
             0.7,
             "#b8e186"
            ],
            [
             0.8,
             "#7fbc41"
            ],
            [
             0.9,
             "#4d9221"
            ],
            [
             1,
             "#276419"
            ]
           ],
           "sequential": [
            [
             0,
             "#0d0887"
            ],
            [
             0.1111111111111111,
             "#46039f"
            ],
            [
             0.2222222222222222,
             "#7201a8"
            ],
            [
             0.3333333333333333,
             "#9c179e"
            ],
            [
             0.4444444444444444,
             "#bd3786"
            ],
            [
             0.5555555555555556,
             "#d8576b"
            ],
            [
             0.6666666666666666,
             "#ed7953"
            ],
            [
             0.7777777777777778,
             "#fb9f3a"
            ],
            [
             0.8888888888888888,
             "#fdca26"
            ],
            [
             1,
             "#f0f921"
            ]
           ],
           "sequentialminus": [
            [
             0,
             "#0d0887"
            ],
            [
             0.1111111111111111,
             "#46039f"
            ],
            [
             0.2222222222222222,
             "#7201a8"
            ],
            [
             0.3333333333333333,
             "#9c179e"
            ],
            [
             0.4444444444444444,
             "#bd3786"
            ],
            [
             0.5555555555555556,
             "#d8576b"
            ],
            [
             0.6666666666666666,
             "#ed7953"
            ],
            [
             0.7777777777777778,
             "#fb9f3a"
            ],
            [
             0.8888888888888888,
             "#fdca26"
            ],
            [
             1,
             "#f0f921"
            ]
           ]
          },
          "colorway": [
           "#636efa",
           "#EF553B",
           "#00cc96",
           "#ab63fa",
           "#FFA15A",
           "#19d3f3",
           "#FF6692",
           "#B6E880",
           "#FF97FF",
           "#FECB52"
          ],
          "font": {
           "color": "#2a3f5f"
          },
          "geo": {
           "bgcolor": "white",
           "lakecolor": "white",
           "landcolor": "#E5ECF6",
           "showlakes": true,
           "showland": true,
           "subunitcolor": "white"
          },
          "hoverlabel": {
           "align": "left"
          },
          "hovermode": "closest",
          "mapbox": {
           "style": "light"
          },
          "paper_bgcolor": "white",
          "plot_bgcolor": "#E5ECF6",
          "polar": {
           "angularaxis": {
            "gridcolor": "white",
            "linecolor": "white",
            "ticks": ""
           },
           "bgcolor": "#E5ECF6",
           "radialaxis": {
            "gridcolor": "white",
            "linecolor": "white",
            "ticks": ""
           }
          },
          "scene": {
           "xaxis": {
            "backgroundcolor": "#E5ECF6",
            "gridcolor": "white",
            "gridwidth": 2,
            "linecolor": "white",
            "showbackground": true,
            "ticks": "",
            "zerolinecolor": "white"
           },
           "yaxis": {
            "backgroundcolor": "#E5ECF6",
            "gridcolor": "white",
            "gridwidth": 2,
            "linecolor": "white",
            "showbackground": true,
            "ticks": "",
            "zerolinecolor": "white"
           },
           "zaxis": {
            "backgroundcolor": "#E5ECF6",
            "gridcolor": "white",
            "gridwidth": 2,
            "linecolor": "white",
            "showbackground": true,
            "ticks": "",
            "zerolinecolor": "white"
           }
          },
          "shapedefaults": {
           "line": {
            "color": "#2a3f5f"
           }
          },
          "ternary": {
           "aaxis": {
            "gridcolor": "white",
            "linecolor": "white",
            "ticks": ""
           },
           "baxis": {
            "gridcolor": "white",
            "linecolor": "white",
            "ticks": ""
           },
           "bgcolor": "#E5ECF6",
           "caxis": {
            "gridcolor": "white",
            "linecolor": "white",
            "ticks": ""
           }
          },
          "title": {
           "x": 0.05
          },
          "xaxis": {
           "automargin": true,
           "gridcolor": "white",
           "linecolor": "white",
           "ticks": "",
           "title": {
            "standoff": 15
           },
           "zerolinecolor": "white",
           "zerolinewidth": 2
          },
          "yaxis": {
           "automargin": true,
           "gridcolor": "white",
           "linecolor": "white",
           "ticks": "",
           "title": {
            "standoff": 15
           },
           "zerolinecolor": "white",
           "zerolinewidth": 2
          }
         }
        },
        "title": {
         "text": "Scenario 2: Filtered (20–35 °C)"
        },
        "xaxis": {
         "anchor": "y",
         "domain": [
          0,
          1
         ],
         "title": {
          "text": "Temperature (°C)"
         }
        },
        "yaxis": {
         "anchor": "x",
         "domain": [
          0,
          1
         ],
         "title": {
          "text": "Humidity (%)"
         }
        }
       }
      },
      "image/png": "[encoded data removed]"
     },
     "metadata": {},
     "output_type": "display_data"
    },
    {
     "name": "stdout",
     "output_type": "stream",
     "text": [
      "Saved plot as scenario2_filtered.png\n",
      "Skipping =====  Scenario 3: More Filtered (22–32 °C)   ==== — no data points in this range.\n"
     ]
    }
   ],
   "source": [
    "import pandas as pd\n",
    "import numpy as np\n",
    "import plotly.express as px\n",
    "import plotly.graph_objects as go\n",
    "from sklearn.linear_model import LinearRegression\n",
    "\n",
    "# Load your dataset\n",
    "sensor_data = pd.read_csv(\"sensor_data.csv\")\n",
    "\n",
    "# Function to fit regression, plot, print metrics, and save PNG\n",
    "def plot_regression(df, title, filename):\n",
    "    if df.empty:\n",
    "        print(f\"Skipping {title} — no data points in this range.\")\n",
    "        return None\n",
    "    \n",
    "    X = df[[\"temperature\"]].values\n",
    "    y = df[\"humidity\"].values\n",
    "\n",
    "    model = LinearRegression()\n",
    "    model.fit(X, y)\n",
    "\n",
    "    # Predictions\n",
    "    x_range = np.linspace(X.min(), X.max(), 100).reshape(-1, 1)\n",
    "    y_range = model.predict(x_range)\n",
    "\n",
    "    slope, intercept, r2 = model.coef_[0], model.intercept_, model.score(X, y)\n",
    "\n",
    "    # Print metrics in notebook\n",
    "    print(f\"\\n=== {title} ===\")\n",
    "    print(f\"Slope: {slope:.3f}\")\n",
    "    print(f\"Intercept: {intercept:.3f}\")\n",
    "    print(f\"R²: {r2:.3f}\")\n",
    "    print(f\"Samples: {len(df)}\")\n",
    "\n",
    "    # Scatter + regression line\n",
    "    fig = px.scatter(df, x=\"temperature\", y=\"humidity\", opacity=0.65, title=title)\n",
    "    fig.add_traces(go.Scatter(x=x_range.flatten(), y=y_range, name=\"Regression Fit\"))\n",
    "    fig.update_layout(xaxis_title=\"Temperature (°C)\", yaxis_title=\"Humidity (%)\")\n",
    "    \n",
    "    # Show in Jupyter\n",
    "    fig.show()\n",
    "\n",
    "    # Save image for report\n",
    "    fig.write_image(filename)\n",
    "    print(f\"Saved plot as {filename}\")\n",
    "    return fig\n",
    "\n",
    "# Scenario 1: Original Data\n",
    "plot_regression(sensor_data, \"Scenario 1: Original Data\", \"scenario1_original.png\")\n",
    "\n",
    "# Scenario 2: Filtered (20–35 °C)\n",
    "df_filtered = sensor_data[(sensor_data[\"temperature\"] >= 20) & (sensor_data[\"temperature\"] <= 35)]\n",
    "plot_regression(df_filtered, \"Scenario 2: Filtered (20–35 °C)\", \"scenario2_filtered.png\")\n",
    "\n",
    "# Scenario 3: More Filtered (22–32 °C)\n",
    "df_more_filtered = sensor_data[(sensor_data[\"temperature\"] >= 22) & (sensor_data[\"temperature\"] <= 32)]\n",
    "plot_regression(df_more_filtered, \"=====  Scenario 3: More Filtered (22–32 °C)   ====\", \"scenario3_filtered.png\")\n"
   ]
  },
  {
   "cell_type": "code",
   "execution_count": null,
   "id": "b60b33a2-8007-4c7f-8d9e-0f129f0f8e8d",
   "metadata": {},
   "outputs": [],
   "source": []
  }
 ],
 "metadata": {
  "kernelspec": {
   "display_name": "Python [conda env:base] *",
   "language": "python",
   "name": "conda-base-py"
  },
  "language_info": {
   "codemirror_mode": {
    "name": "ipython",
    "version": 3
   },
   "file_extension": ".py",
   "mimetype": "text/x-python",
   "name": "python",
   "nbconvert_exporter": "python",
   "pygments_lexer": "ipython3",
   "version": "3.13.5"
  }
 },
 "nbformat": 4,
 "nbformat_minor": 5
}
